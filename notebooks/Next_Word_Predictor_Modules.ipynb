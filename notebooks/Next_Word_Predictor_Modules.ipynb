{
  "nbformat": 4,
  "nbformat_minor": 0,
  "metadata": {
    "colab": {
      "provenance": [],
      "machine_shape": "hm",
      "gpuType": "T4"
    },
    "kernelspec": {
      "name": "python3",
      "display_name": "Python 3"
    },
    "language_info": {
      "name": "python"
    },
    "accelerator": "GPU"
  },
  "cells": [
    {
      "cell_type": "code",
      "execution_count": 1,
      "metadata": {
        "colab": {
          "base_uri": "https://localhost:8080/"
        },
        "id": "hA5IbzHwvRbK",
        "outputId": "ef59e772-830e-458b-bc11-9f05d3afb2f0"
      },
      "outputs": [
        {
          "output_type": "stream",
          "name": "stdout",
          "text": [
            "Requirement already satisfied: torch==2.2.2 in /usr/local/lib/python3.12/dist-packages (2.2.2)\n",
            "Requirement already satisfied: torchtext==0.17.2 in /usr/local/lib/python3.12/dist-packages (0.17.2)\n",
            "Requirement already satisfied: numpy==1.26.4 in /usr/local/lib/python3.12/dist-packages (1.26.4)\n",
            "Requirement already satisfied: filelock in /usr/local/lib/python3.12/dist-packages (from torch==2.2.2) (3.19.1)\n",
            "Requirement already satisfied: typing-extensions>=4.8.0 in /usr/local/lib/python3.12/dist-packages (from torch==2.2.2) (4.15.0)\n",
            "Requirement already satisfied: sympy in /usr/local/lib/python3.12/dist-packages (from torch==2.2.2) (1.13.3)\n",
            "Requirement already satisfied: networkx in /usr/local/lib/python3.12/dist-packages (from torch==2.2.2) (3.5)\n",
            "Requirement already satisfied: jinja2 in /usr/local/lib/python3.12/dist-packages (from torch==2.2.2) (3.1.6)\n",
            "Requirement already satisfied: fsspec in /usr/local/lib/python3.12/dist-packages (from torch==2.2.2) (2025.3.0)\n",
            "Requirement already satisfied: nvidia-cuda-nvrtc-cu12==12.1.105 in /usr/local/lib/python3.12/dist-packages (from torch==2.2.2) (12.1.105)\n",
            "Requirement already satisfied: nvidia-cuda-runtime-cu12==12.1.105 in /usr/local/lib/python3.12/dist-packages (from torch==2.2.2) (12.1.105)\n",
            "Requirement already satisfied: nvidia-cuda-cupti-cu12==12.1.105 in /usr/local/lib/python3.12/dist-packages (from torch==2.2.2) (12.1.105)\n",
            "Requirement already satisfied: nvidia-cudnn-cu12==8.9.2.26 in /usr/local/lib/python3.12/dist-packages (from torch==2.2.2) (8.9.2.26)\n",
            "Requirement already satisfied: nvidia-cublas-cu12==12.1.3.1 in /usr/local/lib/python3.12/dist-packages (from torch==2.2.2) (12.1.3.1)\n",
            "Requirement already satisfied: nvidia-cufft-cu12==11.0.2.54 in /usr/local/lib/python3.12/dist-packages (from torch==2.2.2) (11.0.2.54)\n",
            "Requirement already satisfied: nvidia-curand-cu12==10.3.2.106 in /usr/local/lib/python3.12/dist-packages (from torch==2.2.2) (10.3.2.106)\n",
            "Requirement already satisfied: nvidia-cusolver-cu12==11.4.5.107 in /usr/local/lib/python3.12/dist-packages (from torch==2.2.2) (11.4.5.107)\n",
            "Requirement already satisfied: nvidia-cusparse-cu12==12.1.0.106 in /usr/local/lib/python3.12/dist-packages (from torch==2.2.2) (12.1.0.106)\n",
            "Requirement already satisfied: nvidia-nccl-cu12==2.19.3 in /usr/local/lib/python3.12/dist-packages (from torch==2.2.2) (2.19.3)\n",
            "Requirement already satisfied: nvidia-nvtx-cu12==12.1.105 in /usr/local/lib/python3.12/dist-packages (from torch==2.2.2) (12.1.105)\n",
            "Requirement already satisfied: tqdm in /usr/local/lib/python3.12/dist-packages (from torchtext==0.17.2) (4.67.1)\n",
            "Requirement already satisfied: requests in /usr/local/lib/python3.12/dist-packages (from torchtext==0.17.2) (2.32.4)\n",
            "Requirement already satisfied: nvidia-nvjitlink-cu12 in /usr/local/lib/python3.12/dist-packages (from nvidia-cusolver-cu12==11.4.5.107->torch==2.2.2) (12.6.85)\n",
            "Requirement already satisfied: MarkupSafe>=2.0 in /usr/local/lib/python3.12/dist-packages (from jinja2->torch==2.2.2) (3.0.2)\n",
            "Requirement already satisfied: charset_normalizer<4,>=2 in /usr/local/lib/python3.12/dist-packages (from requests->torchtext==0.17.2) (3.4.3)\n",
            "Requirement already satisfied: idna<4,>=2.5 in /usr/local/lib/python3.12/dist-packages (from requests->torchtext==0.17.2) (3.10)\n",
            "Requirement already satisfied: urllib3<3,>=1.21.1 in /usr/local/lib/python3.12/dist-packages (from requests->torchtext==0.17.2) (2.5.0)\n",
            "Requirement already satisfied: certifi>=2017.4.17 in /usr/local/lib/python3.12/dist-packages (from requests->torchtext==0.17.2) (2025.8.3)\n",
            "Requirement already satisfied: mpmath<1.4,>=1.1.0 in /usr/local/lib/python3.12/dist-packages (from sympy->torch==2.2.2) (1.3.0)\n"
          ]
        }
      ],
      "source": [
        "!pip install torch==2.2.2 torchtext==0.17.2 numpy==1.26.4"
      ]
    },
    {
      "cell_type": "code",
      "source": [
        "import torch, torchtext"
      ],
      "metadata": {
        "id": "NrMyPBMHwShX"
      },
      "execution_count": 2,
      "outputs": []
    },
    {
      "cell_type": "code",
      "source": [
        "%%capture\n",
        "!pip install demoji\n",
        "\n",
        "\n",
        "\n",
        "import re\n",
        "import demoji\n",
        "import random\n",
        "import inflect\n",
        "import numpy as np\n",
        "import pandas as pd\n",
        "from bs4 import BeautifulSoup\n",
        "import matplotlib.pyplot as plt\n",
        "\n",
        "\n",
        "\n",
        "import torch.nn as nn\n",
        "import torch.optim as optim\n",
        "import torch.nn.functional as F\n",
        "from torch.nn.functional import one_hot\n",
        "from torchtext.data.utils import get_tokenizer\n",
        "from torchtext.vocab import build_vocab_from_iterator\n",
        "from torch.utils.data import TensorDataset, DataLoader, random_split"
      ],
      "metadata": {
        "id": "knJ60Pi5wYCE"
      },
      "execution_count": 3,
      "outputs": []
    },
    {
      "cell_type": "code",
      "source": [
        "class TextProcessor:\n",
        "  def __init__(self, file_path):\n",
        "    self.file_path = file_path\n",
        "    self.p = inflect.engine()\n",
        "    demoji.download_codes()\n",
        "\n",
        "  def read_file(self):\n",
        "    with open(self.file_path, 'r') as file:\n",
        "      return file.readlines()\n",
        "\n",
        "  def preprocess_text(self, text):\n",
        "    #Remove HTML tags\n",
        "    soup = BeautifulSoup(text, 'html.parser')\n",
        "    text = soup.get_text()\n",
        "\n",
        "    #Remove emojis\n",
        "    text = demoji.replace(text, \"\")\n",
        "\n",
        "    #Remove mentions of \"Human1\", and \"Human 2\"\n",
        "    text = text.lower()\n",
        "    text = re.sub(r'\\b(?:human 1|human 2)\\b:?', \" \", text)\n",
        "\n",
        "    #Replace numbers with words\n",
        "    text = re.sub(r'\\b\\d+\\b', lambda x: self.p.number_to_words(x.group()), text)\n",
        "\n",
        "    #Remove special character, keeping only alphabetic and spaces\n",
        "    text = re.sub(r'[^a-zA-Z\\s]', ' ', text)\n",
        "\n",
        "    #Replace specific unicode spaces with standard spaces and trim\n",
        "    text = text.replace(u'\\xa0', u' ').replace('\\u200a', ' ').strip()\n",
        "\n",
        "    return text\n",
        "\n",
        "  def preprocess_lines(self):\n",
        "    lines = self.read_file()\n",
        "    preprocessed_lines = [self.preprocess_text(line) for line in lines]\n",
        "    return preprocessed_lines"
      ],
      "metadata": {
        "id": "LxZuSEpkwaMx"
      },
      "execution_count": 6,
      "outputs": []
    },
    {
      "cell_type": "code",
      "source": [
        "file_path = 'human_chat.txt'\n",
        "processor = TextProcessor(file_path)\n",
        "preprocessed_lines = processor.preprocess_lines()"
      ],
      "metadata": {
        "colab": {
          "base_uri": "https://localhost:8080/"
        },
        "id": "1uJPWY2pxGqa",
        "outputId": "042efe3c-750b-4595-857d-6e8b1e2ca56f"
      },
      "execution_count": 7,
      "outputs": [
        {
          "output_type": "stream",
          "name": "stderr",
          "text": [
            "/tmp/ipython-input-1721460372.py:5: FutureWarning: The demoji.download_codes attribute is deprecated and will be removed from demoji in a future version. It is an unused attribute as emoji codes are now distributed directly with the demoji package.\n",
            "  demoji.download_codes()\n"
          ]
        }
      ]
    },
    {
      "cell_type": "code",
      "source": [
        "class TextTokenizerandVectorizer:\n",
        "  def __init__(self, conversations, oov_rate=0.1, specials=['<pad>', '<oov>']):\n",
        "    self.tokenizer = get_tokenizer('basic_english')\n",
        "    self.conversations = conversations\n",
        "    self.oov_rate = oov_rate\n",
        "    self.specials = specials\n",
        "    self.tokenized_text = [self.tokenizer(conv) for conv in conversations]\n",
        "    self.features_vocab = self.build_vocab(special_first = True)\n",
        "    self.target_vocab = self.build_vocab(special_first=False)\n",
        "    self.num_classes = len(self.target_vocab)\n",
        "\n",
        "\n",
        "  def build_vocab(self, special_first=True):\n",
        "    specials = self.specials if special_first else []\n",
        "    return build_vocab_from_iterator(\n",
        "        self.tokenized_text,\n",
        "        min_freq=1,\n",
        "        specials=specials,\n",
        "        special_first=special_first\n",
        "    )\n",
        "\n",
        "  def make_ngrams(self, text):\n",
        "    ngrams=[]\n",
        "    for i in range(1, len(text)):\n",
        "      ngram_sequence = text[:i+1]\n",
        "      ngrams.append(ngram_sequence)\n",
        "    return ngrams\n",
        "\n",
        "  def add_random_oov_tokens(self, ngram):\n",
        "    for idx, word in enumerate(ngram[:-1]):\n",
        "      if random.uniform(0,1) < self.oov_rate:\n",
        "        ngram[idx] = '<oov>'\n",
        "    return ngram\n",
        "\n",
        "  def text_to_numerical_sequence(self, tokenized_text):\n",
        "    tokens_list = []\n",
        "    if tokenized_text and tokenized_text[-1] in self.target_vocab.get_itos():\n",
        "      # Ensure there's at least one token for the feature sequence\n",
        "      if len(tokenized_text[:-1]) > 0:\n",
        "        for token in tokenized_text[:-1]:\n",
        "          num_token = self.features_vocab[token] if token in self.features_vocab.get_itos() else self.features_vocab['<oov>']\n",
        "          tokens_list.append(num_token)\n",
        "        num_token = self.target_vocab[tokenized_text[-1]]\n",
        "        tokens_list.append(num_token)\n",
        "        return tokens_list\n",
        "    return None\n",
        "\n",
        "\n",
        "  def process_text(self):\n",
        "    ngrams_list = [ngram for text in self.tokenized_text for ngram in self.make_ngrams(text)]\n",
        "    ngrams_list_oov = [self.add_random_oov_tokens(ngram) for ngram in ngrams_list]\n",
        "    # Filter out None values which represent invalid sequences and ensure sequence is not empty\n",
        "    input_sequences = [seq for seq in [self.text_to_numerical_sequence(seq) for seq in ngrams_list_oov] if seq is not None and len(seq) > 1]\n",
        "\n",
        "    if not input_sequences:\n",
        "        raise ValueError(\"No valid input sequences generated. Please check your data and processing logic.\")\n",
        "\n",
        "    X = [seq[:-1] for seq in input_sequences]\n",
        "    y = [seq[-1] for seq in input_sequences]\n",
        "    longest_sentence_feature = max(len(seq) for seq in X)\n",
        "\n",
        "    padded_X = torch.stack([F.pad(torch.tensor(seq), (longest_sentence_feature-len(seq),0), value=self.features_vocab['<pad>']) for seq in X])\n",
        "    y = torch.tensor(y)\n",
        "    y_one_hot = one_hot(y, num_classes=self.num_classes)\n",
        "    return padded_X, y_one_hot, len(self.features_vocab), len(self.target_vocab)"
      ],
      "metadata": {
        "id": "zoJ-jekZxQO1"
      },
      "execution_count": 29,
      "outputs": []
    },
    {
      "cell_type": "code",
      "source": [
        "txt_processor = TextTokenizerandVectorizer(preprocessed_lines)\n",
        "X,y, feature_vocab_total_words, target_vocab_total_words = txt_processor.process_text()"
      ],
      "metadata": {
        "id": "3n3rGOWa0T4W"
      },
      "execution_count": 30,
      "outputs": []
    },
    {
      "cell_type": "code",
      "source": [
        "from functools import total_ordering\n",
        "#Assumming X and y are your features and targets tensors respectively\n",
        "data = TensorDataset(X,y)\n",
        "\n",
        "#Calculate split sizes\n",
        "total_size = len(data)\n",
        "train_size = int(0.70 * total_size)\n",
        "val_size = int(0.15*total_size)\n",
        "test_size = total_size - train_size- val_size\n",
        "\n",
        "#Split the dataset\n",
        "train_data, val_data, test_data = random_split(data, [train_size, val_size, test_size])\n",
        "\n",
        "#Define batch size\n",
        "batch_size = 32\n",
        "\n",
        "#Create DataLoaders\n",
        "train_loader = DataLoader(train_data, batch_size=batch_size, shuffle=True)\n",
        "val_loader = DataLoader(val_data, batch_size=batch_size, shuffle=True)\n",
        "test_loader = DataLoader(test_data, batch_size=batch_size, shuffle=False)"
      ],
      "metadata": {
        "id": "7qe9JMXO0wIm"
      },
      "execution_count": 31,
      "outputs": []
    },
    {
      "cell_type": "code",
      "source": [
        "class My_BiLSTM(nn.Module):\n",
        "  def __init__(self, features_vocab_total_words, target_vocab_total_words, embedding_dim, hidden_dim):\n",
        "    super(My_BiLSTM, self).__init__()\n",
        "    self.hidden_dim = hidden_dim\n",
        "    self.embedding = nn.Embedding(features_vocab_total_words, embedding_dim)\n",
        "    self.lstm = nn.LSTM(embedding_dim, hidden_dim, batch_first=True, bidirectional=True)\n",
        "    self.dropout = nn.Dropout(0.3)\n",
        "    self.fc = nn.Linear(hidden_dim * 2, target_vocab_total_words)\n",
        "\n",
        "  def forward(self, x):\n",
        "    x = x.to(self.embedding.weight.device)\n",
        "    embedded = self.embedding(x)\n",
        "    lstm_out, _ = self.lstm(embedded)\n",
        "    lstm_out = self.dropout(lstm_out)\n",
        "    output = self.fc(torch.cat((lstm_out[:, -1, :hidden_dim], lstm_out[:, 0, hidden_dim:]), dim=1))\n",
        "    return output"
      ],
      "metadata": {
        "id": "DA1yBpqM1jf_"
      },
      "execution_count": 32,
      "outputs": []
    },
    {
      "cell_type": "code",
      "source": [
        "embedding_dim=128\n",
        "hidden_dim = 256\n",
        "epochs=75\n",
        "model = My_BiLSTM(feature_vocab_total_words, target_vocab_total_words, embedding_dim=embedding_dim, hidden_dim=hidden_dim)"
      ],
      "metadata": {
        "id": "R0i8g_L_14Fu"
      },
      "execution_count": 33,
      "outputs": []
    },
    {
      "cell_type": "code",
      "source": [
        "class BiLSTMTrainer:\n",
        "  def __init__(self, model, train_loader, val_loader=None, epochs=75, lr=0.0009, device=None, k=3, patience=5):\n",
        "    self.model = model\n",
        "    self.train_loader = train_loader\n",
        "    self.val_loader = val_loader\n",
        "    self.epochs = epochs\n",
        "    self.device = device if device else torch.device('cuda' if torch.cuda.is_available() else 'cpu')\n",
        "    self.model.to(self.device)\n",
        "    self.criterion = nn.CrossEntropyLoss()\n",
        "    self.optimizer = optim.Adam(self.model.parameters(), lr=lr)\n",
        "    self.best_val_loss=float('inf')\n",
        "    self.k = k\n",
        "    self.patience = patience\n",
        "\n",
        "  def calculate_topk_accuracy(self, data_loader):\n",
        "    self.model.eval()\n",
        "    correct_predictions = 0\n",
        "    total_predictions = 0\n",
        "\n",
        "    with torch.no_grad():\n",
        "      for batch_x, batch_y in data_loader:\n",
        "        batch_x, batch_y = batch_x.to(self.device).to(torch.long), batch_y.to(self.device)\n",
        "\n",
        "        #Forward pass\n",
        "        output = self.model(batch_x)\n",
        "\n",
        "        #Get top-k predictions\n",
        "        _, predicted_indices = output.topk(self.k, dim=1)\n",
        "\n",
        "        #Check if the correct label is in the top-k predictions\n",
        "        correct_predictions += torch.any(predicted_indices == torch.argmax(batch_y, dim=1, keepdim=True), dim=1).sum().item()\n",
        "        total_predictions += batch_y.size(0)\n",
        "\n",
        "    accuracy = correct_predictions/total_predictions\n",
        "    return accuracy\n",
        "\n",
        "\n",
        "  def train(self):\n",
        "    train_losses = []\n",
        "    val_losses = []\n",
        "    train_accuracies = []\n",
        "    val_accuracies = []\n",
        "    count = 0\n",
        "\n",
        "    for epoch in range(self.epochs):\n",
        "      self.model.train()\n",
        "      epoch_losses = []\n",
        "      for batch_X, batch_y in self.train_loader:\n",
        "        batch_X, batch_y = batch_X.to(self.device).to(torch.long), batch_y.to(self.device)\n",
        "        self.optimizer.zero_grad()\n",
        "        outputs = model(batch_X)\n",
        "        loss = self.criterion(outputs, batch_y.argmax(dim=1))\n",
        "        loss.backward()\n",
        "        self.optimizer.step()\n",
        "        epoch_losses.append(loss.item())\n",
        "\n",
        "      avg_loss = sum(epoch_losses)/len(epoch_losses)\n",
        "      train_losses.append(avg_loss)\n",
        "\n",
        "      if self.val_loader:\n",
        "        val_loss = self.validate()\n",
        "        val_losses.append(val_loss)\n",
        "        if val_loss<self.best_val_loss:\n",
        "          self.best_val_loss=val_loss\n",
        "          torch.save(model.state_dict(), 'best_model.pth')\n",
        "          print(f'new best validation loss: {val_loss:.4f}')\n",
        "          count = 0\n",
        "        else:\n",
        "          count +=1\n",
        "          if count > self.patience:\n",
        "            print(f'Early stopping at epoch {epoch+1}')\n",
        "            break\n",
        "\n",
        "      train_accuracy = self.calculate_topk_accuracy(self.train_loader)\n",
        "      train_accuracies.append(train_accuracy)\n",
        "      val_accuracy = self.calculate_topk_accuracy(self.val_loader)\n",
        "      val_accuracies.append(val_accuracy)\n",
        "\n",
        "      if epoch%5==0:\n",
        "        print(f'Epoch {epoch}/{self.epochs} ||Train Loss: {avg_loss:.4f} || Train K-Accuracy: {train_accuracy * 100:.2f}% || Val Loss :{val_loss:.4f} || Validation K-Accuracy: {val_accuracy * 100:.2f}%')\n",
        "\n",
        "    self.plot_results(train_accuracies, train_losses, val_accuracies, val_losses)\n",
        "\n",
        "  def validate(self):\n",
        "    self.model.eval()\n",
        "    val_losses = []\n",
        "    with torch.no_grad():\n",
        "      for batch_x, batch_y in self.val_loader:\n",
        "        batch_x, batch_y = batch_x.to(self.device).to(torch.long), batch_y.to(self.device)\n",
        "        outputs = self.model(batch_x)\n",
        "        loss = self.criterion(outputs, batch_y.argmax(dim=1))\n",
        "        val_losses.append(loss.item())\n",
        "    return sum(val_losses)/len(val_losses)\n",
        "\n",
        "  def plot_results(self, train_accuracies, train_losses, val_accuracies, val_losses):\n",
        "        epochs_x = list(range(1, len(train_accuracies) + 1))\n",
        "        epochs_x_ = list(range(1, len(train_losses) + 1))\n",
        "        plt.figure(figsize=(12, 6))\n",
        "\n",
        "        # Creating two y-axes\n",
        "        fig, ax1 = plt.subplots()\n",
        "\n",
        "        # Plotting training and validation accuracies\n",
        "        plt.subplot(1, 2, 1)\n",
        "        plt.plot(epochs_x, train_accuracies, 'b-o', label='Train Accuracy')\n",
        "        plt.plot(epochs_x, val_accuracies, 'r-+', label='Validation Accuracy')\n",
        "        plt.title('Training and Validation Accuracy')\n",
        "        plt.xlabel('Epochs')\n",
        "        plt.ylabel('Accuracy')\n",
        "        plt.legend(loc='best')\n",
        "\n",
        "        # Plotting training and validation losses\n",
        "        plt.subplot(1, 2, 2)\n",
        "        plt.plot(epochs_x_, train_losses, 'g-o', label='Train Loss')\n",
        "        plt.plot(epochs_x_, val_losses, 'k-+', label='Validation Loss')\n",
        "        plt.title('Training and Validation Loss')\n",
        "        plt.xlabel('Epochs')\n",
        "        plt.ylabel('Loss')\n",
        "        plt.legend(loc='best')\n",
        "\n",
        "        plt.tight_layout()\n",
        "        plt.show()"
      ],
      "metadata": {
        "id": "g6nqQJr42waZ"
      },
      "execution_count": 34,
      "outputs": []
    },
    {
      "cell_type": "code",
      "source": [
        "trainer = BiLSTMTrainer(model, train_loader=train_loader, val_loader=val_loader)"
      ],
      "metadata": {
        "id": "AtZ1I1tI6NQ1"
      },
      "execution_count": 35,
      "outputs": []
    },
    {
      "cell_type": "code",
      "source": [
        "trainer.train()"
      ],
      "metadata": {
        "colab": {
          "base_uri": "https://localhost:8080/",
          "height": 561
        },
        "id": "YxyaBOeM6TFA",
        "outputId": "e64b1d13-7035-4ac7-eaed-aada5c1c092e"
      },
      "execution_count": 36,
      "outputs": [
        {
          "output_type": "stream",
          "name": "stdout",
          "text": [
            "new best validation loss: 5.7872\n",
            "Epoch 0/75 ||Train Loss: 6.1961 || Train K-Accuracy: 21.09% || Val Loss :5.7872 || Validation K-Accuracy: 19.83%\n",
            "new best validation loss: 5.6312\n",
            "Epoch 5/75 ||Train Loss: 3.0124 || Train K-Accuracy: 75.42% || Val Loss :6.0398 || Validation K-Accuracy: 22.56%\n",
            "Early stopping at epoch 8\n"
          ]
        },
        {
          "output_type": "display_data",
          "data": {
            "text/plain": [
              "<Figure size 1200x600 with 0 Axes>"
            ]
          },
          "metadata": {}
        },
        {
          "output_type": "display_data",
          "data": {
            "text/plain": [
              "<Figure size 640x480 with 3 Axes>"
            ],
            "image/png": "[encoded data removed]"
          },
          "metadata": {}
        }
      ]
    },
    {
      "cell_type": "code",
      "source": [],
      "metadata": {
        "id": "0Ta5XAoz6Uf1"
      },
      "execution_count": null,
      "outputs": []
    }
  ]
}